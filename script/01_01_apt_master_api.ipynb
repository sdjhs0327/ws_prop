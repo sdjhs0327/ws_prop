{
 "cells": [
  {
   "cell_type": "code",
   "execution_count": 1,
   "metadata": {},
   "outputs": [],
   "source": [
    "import pandas as pd\n",
    "import warnings\n",
    "warnings.filterwarnings('ignore')\n",
    "import requests\n",
    "import xmltodict\n",
    "import time"
   ]
  },
  {
   "cell_type": "code",
   "execution_count": 2,
   "metadata": {},
   "outputs": [],
   "source": [
    "authKey = \"G7GuVfz99A0umUDOAuZlRXMYlZmKxBd3hHsj8EiZ89SSD7r5qrn08q70LM96fyblxiM3eGxWsgkIjhF%2BAWTVBg%3D%3D\"\n",
    "\n",
    "## 전체 아파트 목록 조회 함수\n",
    "def get_apt_list(authKey = authKey):\n",
    "    url = f\"http://apis.data.go.kr/1613000/AptListService2/getTotalAptList?serviceKey={authKey}&pageNo=1&numOfRows=1000000\"\n",
    "    response = requests.get(url)\n",
    "    raw = xmltodict.parse(response.text)\n",
    "    raw = pd.DataFrame(raw['response']['body']['items']['item'])\n",
    "    return raw\n",
    "\n",
    "## 아파트 기본 정보 조회 함수\n",
    "def get_danji_base_info(danji_cd, authKey = authKey):\n",
    "    url = f\"http://apis.data.go.kr/1613000/AptBasisInfoService1/getAphusBassInfo?serviceKey={authKey}&kaptCode={danji_cd}\"\n",
    "    response = requests.get(url)\n",
    "    raw = xmltodict.parse(response.text)\n",
    "    raw = pd.DataFrame(raw['response']['body']['item'], index=[0])\n",
    "    return raw\n",
    "\n",
    "## 아파트 상세 정보 조회 함수\n",
    "def get_danji_detail_info(danji_cd, authKey = authKey):\n",
    "    url = f\"http://apis.data.go.kr/1613000/AptBasisInfoService1/getAphusDtlInfo?serviceKey={authKey}&kaptCode={danji_cd}\"\n",
    "    response = requests.get(url)\n",
    "    raw = xmltodict.parse(response.text)\n",
    "    raw = pd.DataFrame(raw['response']['body']['item'], index=[0])\n",
    "    return raw"
   ]
  },
  {
   "cell_type": "code",
   "execution_count": 3,
   "metadata": {},
   "outputs": [],
   "source": [
    "danji_list = get_apt_list()\n",
    "danji_list.columns = ['시도명', '시군구명', '읍면동명', '리명', '법정동코드', '단지코드', '아파트명']"
   ]
  },
  {
   "cell_type": "code",
   "execution_count": 6,
   "metadata": {},
   "outputs": [],
   "source": [
    "danji_cd_ls = danji_list[danji_list['시도명'] == \"서울특별시\"]['단지코드'].to_list()"
   ]
  },
  {
   "cell_type": "code",
   "execution_count": 7,
   "metadata": {},
   "outputs": [
    {
     "name": "stdout",
     "output_type": "stream",
     "text": [
      "A13982604 : 'response'\n",
      "A15179701 : 'response'\n",
      "A12009001 : HTTPConnectionPool(host='apis.data.go.kr', port=80): Max retries exceeded with url: /1613000/AptBasisInfoService1/getAphusBassInfo?serviceKey=G7GuVfz99A0umUDOAuZlRXMYlZmKxBd3hHsj8EiZ89SSD7r5qrn08q70LM96fyblxiM3eGxWsgkIjhF%2BAWTVBg%3D%3D&kaptCode=A12009001 (Caused by ConnectTimeoutError(<urllib3.connection.HTTPConnection object at 0x00000298E95D54D0>, 'Connection to apis.data.go.kr timed out. (connect timeout=None)'))\n",
      "A15086202 : 'response'\n",
      "A15004406 : HTTPConnectionPool(host='apis.data.go.kr', port=80): Max retries exceeded with url: /1613000/AptBasisInfoService1/getAphusBassInfo?serviceKey=G7GuVfz99A0umUDOAuZlRXMYlZmKxBd3hHsj8EiZ89SSD7r5qrn08q70LM96fyblxiM3eGxWsgkIjhF%2BAWTVBg%3D%3D&kaptCode=A15004406 (Caused by ConnectTimeoutError(<urllib3.connection.HTTPConnection object at 0x00000298E9ACEE50>, 'Connection to apis.data.go.kr timed out. (connect timeout=None)'))\n",
      "A12201103 : 'response'\n",
      "A10088102 : HTTPConnectionPool(host='apis.data.go.kr', port=80): Max retries exceeded with url: /1613000/AptBasisInfoService1/getAphusBassInfo?serviceKey=G7GuVfz99A0umUDOAuZlRXMYlZmKxBd3hHsj8EiZ89SSD7r5qrn08q70LM96fyblxiM3eGxWsgkIjhF%2BAWTVBg%3D%3D&kaptCode=A10088102 (Caused by ConnectTimeoutError(<urllib3.connection.HTTPConnection object at 0x00000298EA378550>, 'Connection to apis.data.go.kr timed out. (connect timeout=None)'))\n",
      "A12078705 : HTTPConnectionPool(host='apis.data.go.kr', port=80): Max retries exceeded with url: /1613000/AptBasisInfoService1/getAphusBassInfo?serviceKey=G7GuVfz99A0umUDOAuZlRXMYlZmKxBd3hHsj8EiZ89SSD7r5qrn08q70LM96fyblxiM3eGxWsgkIjhF%2BAWTVBg%3D%3D&kaptCode=A12078705 (Caused by ConnectTimeoutError(<urllib3.connection.HTTPConnection object at 0x00000298EA79A090>, 'Connection to apis.data.go.kr timed out. (connect timeout=None)'))\n",
      "A15105503 : HTTPConnectionPool(host='apis.data.go.kr', port=80): Max retries exceeded with url: /1613000/AptBasisInfoService1/getAphusBassInfo?serviceKey=G7GuVfz99A0umUDOAuZlRXMYlZmKxBd3hHsj8EiZ89SSD7r5qrn08q70LM96fyblxiM3eGxWsgkIjhF%2BAWTVBg%3D%3D&kaptCode=A15105503 (Caused by ConnectTimeoutError(<urllib3.connection.HTTPConnection object at 0x00000298EA79DC10>, 'Connection to apis.data.go.kr timed out. (connect timeout=None)'))\n",
      "A15883402 : HTTPConnectionPool(host='apis.data.go.kr', port=80): Max retries exceeded with url: /1613000/AptBasisInfoService1/getAphusBassInfo?serviceKey=G7GuVfz99A0umUDOAuZlRXMYlZmKxBd3hHsj8EiZ89SSD7r5qrn08q70LM96fyblxiM3eGxWsgkIjhF%2BAWTVBg%3D%3D&kaptCode=A15883402 (Caused by ConnectTimeoutError(<urllib3.connection.HTTPConnection object at 0x00000298EA7F5C10>, 'Connection to apis.data.go.kr timed out. (connect timeout=None)'))\n",
      "A15609306 : HTTPConnectionPool(host='apis.data.go.kr', port=80): Max retries exceeded with url: /1613000/AptBasisInfoService1/getAphusBassInfo?serviceKey=G7GuVfz99A0umUDOAuZlRXMYlZmKxBd3hHsj8EiZ89SSD7r5qrn08q70LM96fyblxiM3eGxWsgkIjhF%2BAWTVBg%3D%3D&kaptCode=A15609306 (Caused by ConnectTimeoutError(<urllib3.connection.HTTPConnection object at 0x00000298EA7E8050>, 'Connection to apis.data.go.kr timed out. (connect timeout=None)'))\n",
      "A13077201 : HTTPConnectionPool(host='apis.data.go.kr', port=80): Max retries exceeded with url: /1613000/AptBasisInfoService1/getAphusBassInfo?serviceKey=G7GuVfz99A0umUDOAuZlRXMYlZmKxBd3hHsj8EiZ89SSD7r5qrn08q70LM96fyblxiM3eGxWsgkIjhF%2BAWTVBg%3D%3D&kaptCode=A13077201 (Caused by ConnectTimeoutError(<urllib3.connection.HTTPConnection object at 0x00000298EAA02950>, 'Connection to apis.data.go.kr timed out. (connect timeout=None)'))\n",
      "A13008001 : HTTPConnectionPool(host='apis.data.go.kr', port=80): Max retries exceeded with url: /1613000/AptBasisInfoService1/getAphusBassInfo?serviceKey=G7GuVfz99A0umUDOAuZlRXMYlZmKxBd3hHsj8EiZ89SSD7r5qrn08q70LM96fyblxiM3eGxWsgkIjhF%2BAWTVBg%3D%3D&kaptCode=A13008001 (Caused by ConnectTimeoutError(<urllib3.connection.HTTPConnection object at 0x00000298EAA27750>, 'Connection to apis.data.go.kr timed out. (connect timeout=None)'))\n",
      "A15088208 : HTTPConnectionPool(host='apis.data.go.kr', port=80): Max retries exceeded with url: /1613000/AptBasisInfoService1/getAphusBassInfo?serviceKey=G7GuVfz99A0umUDOAuZlRXMYlZmKxBd3hHsj8EiZ89SSD7r5qrn08q70LM96fyblxiM3eGxWsgkIjhF%2BAWTVBg%3D%3D&kaptCode=A15088208 (Caused by ConnectTimeoutError(<urllib3.connection.HTTPConnection object at 0x00000298EAA3E610>, 'Connection to apis.data.go.kr timed out. (connect timeout=None)'))\n",
      "A13380301 : HTTPConnectionPool(host='apis.data.go.kr', port=80): Max retries exceeded with url: /1613000/AptBasisInfoService1/getAphusBassInfo?serviceKey=G7GuVfz99A0umUDOAuZlRXMYlZmKxBd3hHsj8EiZ89SSD7r5qrn08q70LM96fyblxiM3eGxWsgkIjhF%2BAWTVBg%3D%3D&kaptCode=A13380301 (Caused by ConnectTimeoutError(<urllib3.connection.HTTPConnection object at 0x00000298EAA58910>, 'Connection to apis.data.go.kr timed out. (connect timeout=None)'))\n",
      "A13511004 : HTTPConnectionPool(host='apis.data.go.kr', port=80): Max retries exceeded with url: /1613000/AptBasisInfoService1/getAphusBassInfo?serviceKey=G7GuVfz99A0umUDOAuZlRXMYlZmKxBd3hHsj8EiZ89SSD7r5qrn08q70LM96fyblxiM3eGxWsgkIjhF%2BAWTVBg%3D%3D&kaptCode=A13511004 (Caused by ConnectTimeoutError(<urllib3.connection.HTTPConnection object at 0x00000298EAA84590>, 'Connection to apis.data.go.kr timed out. (connect timeout=None)'))\n",
      "A13484004 : HTTPConnectionPool(host='apis.data.go.kr', port=80): Max retries exceeded with url: /1613000/AptBasisInfoService1/getAphusBassInfo?serviceKey=G7GuVfz99A0umUDOAuZlRXMYlZmKxBd3hHsj8EiZ89SSD7r5qrn08q70LM96fyblxiM3eGxWsgkIjhF%2BAWTVBg%3D%3D&kaptCode=A13484004 (Caused by ConnectTimeoutError(<urllib3.connection.HTTPConnection object at 0x00000298EAAA6790>, 'Connection to apis.data.go.kr timed out. (connect timeout=None)'))\n",
      "A13991015 : HTTPConnectionPool(host='apis.data.go.kr', port=80): Max retries exceeded with url: /1613000/AptBasisInfoService1/getAphusBassInfo?serviceKey=G7GuVfz99A0umUDOAuZlRXMYlZmKxBd3hHsj8EiZ89SSD7r5qrn08q70LM96fyblxiM3eGxWsgkIjhF%2BAWTVBg%3D%3D&kaptCode=A13991015 (Caused by ConnectTimeoutError(<urllib3.connection.HTTPConnection object at 0x00000298EAAB7310>, 'Connection to apis.data.go.kr timed out. (connect timeout=None)'))\n",
      "A13114002 : HTTPConnectionPool(host='apis.data.go.kr', port=80): Max retries exceeded with url: /1613000/AptBasisInfoService1/getAphusBassInfo?serviceKey=G7GuVfz99A0umUDOAuZlRXMYlZmKxBd3hHsj8EiZ89SSD7r5qrn08q70LM96fyblxiM3eGxWsgkIjhF%2BAWTVBg%3D%3D&kaptCode=A13114002 (Caused by ConnectTimeoutError(<urllib3.connection.HTTPConnection object at 0x00000298EAACA0D0>, 'Connection to apis.data.go.kr timed out. (connect timeout=None)'))\n",
      "A15883101 : HTTPConnectionPool(host='apis.data.go.kr', port=80): Max retries exceeded with url: /1613000/AptBasisInfoService1/getAphusBassInfo?serviceKey=G7GuVfz99A0umUDOAuZlRXMYlZmKxBd3hHsj8EiZ89SSD7r5qrn08q70LM96fyblxiM3eGxWsgkIjhF%2BAWTVBg%3D%3D&kaptCode=A15883101 (Caused by ConnectTimeoutError(<urllib3.connection.HTTPConnection object at 0x00000298EAAD5ED0>, 'Connection to apis.data.go.kr timed out. (connect timeout=None)'))\n",
      "A13707019 : HTTPConnectionPool(host='apis.data.go.kr', port=80): Max retries exceeded with url: /1613000/AptBasisInfoService1/getAphusBassInfo?serviceKey=G7GuVfz99A0umUDOAuZlRXMYlZmKxBd3hHsj8EiZ89SSD7r5qrn08q70LM96fyblxiM3eGxWsgkIjhF%2BAWTVBg%3D%3D&kaptCode=A13707019 (Caused by ConnectTimeoutError(<urllib3.connection.HTTPConnection object at 0x00000298EAAE0310>, 'Connection to apis.data.go.kr timed out. (connect timeout=None)'))\n",
      "A13388001 : HTTPConnectionPool(host='apis.data.go.kr', port=80): Max retries exceeded with url: /1613000/AptBasisInfoService1/getAphusBassInfo?serviceKey=G7GuVfz99A0umUDOAuZlRXMYlZmKxBd3hHsj8EiZ89SSD7r5qrn08q70LM96fyblxiM3eGxWsgkIjhF%2BAWTVBg%3D%3D&kaptCode=A13388001 (Caused by ConnectTimeoutError(<urllib3.connection.HTTPConnection object at 0x00000298EAB4E910>, 'Connection to apis.data.go.kr timed out. (connect timeout=None)'))\n",
      "A15381303 : HTTPConnectionPool(host='apis.data.go.kr', port=80): Max retries exceeded with url: /1613000/AptBasisInfoService1/getAphusBassInfo?serviceKey=G7GuVfz99A0umUDOAuZlRXMYlZmKxBd3hHsj8EiZ89SSD7r5qrn08q70LM96fyblxiM3eGxWsgkIjhF%2BAWTVBg%3D%3D&kaptCode=A15381303 (Caused by ConnectTimeoutError(<urllib3.connection.HTTPConnection object at 0x00000298EABE0690>, 'Connection to apis.data.go.kr timed out. (connect timeout=None)'))\n",
      "A10028086 : HTTPConnectionPool(host='apis.data.go.kr', port=80): Max retries exceeded with url: /1613000/AptBasisInfoService1/getAphusBassInfo?serviceKey=G7GuVfz99A0umUDOAuZlRXMYlZmKxBd3hHsj8EiZ89SSD7r5qrn08q70LM96fyblxiM3eGxWsgkIjhF%2BAWTVBg%3D%3D&kaptCode=A10028086 (Caused by ConnectTimeoutError(<urllib3.connection.HTTPConnection object at 0x00000298EAD54750>, 'Connection to apis.data.go.kr timed out. (connect timeout=None)'))\n",
      "A10024018 : 'response'\n",
      "A10024197 : HTTPConnectionPool(host='apis.data.go.kr', port=80): Max retries exceeded with url: /1613000/AptBasisInfoService1/getAphusBassInfo?serviceKey=G7GuVfz99A0umUDOAuZlRXMYlZmKxBd3hHsj8EiZ89SSD7r5qrn08q70LM96fyblxiM3eGxWsgkIjhF%2BAWTVBg%3D%3D&kaptCode=A10024197 (Caused by ConnectTimeoutError(<urllib3.connection.HTTPConnection object at 0x00000298EB42B410>, 'Connection to apis.data.go.kr timed out. (connect timeout=None)'))\n",
      "A10023996 : HTTPConnectionPool(host='apis.data.go.kr', port=80): Max retries exceeded with url: /1613000/AptBasisInfoService1/getAphusBassInfo?serviceKey=G7GuVfz99A0umUDOAuZlRXMYlZmKxBd3hHsj8EiZ89SSD7r5qrn08q70LM96fyblxiM3eGxWsgkIjhF%2BAWTVBg%3D%3D&kaptCode=A10023996 (Caused by ConnectTimeoutError(<urllib3.connection.HTTPConnection object at 0x00000298EB436D10>, 'Connection to apis.data.go.kr timed out. (connect timeout=None)'))\n",
      "A10023059 : 'response'\n",
      "A10023728 : HTTPConnectionPool(host='apis.data.go.kr', port=80): Max retries exceeded with url: /1613000/AptBasisInfoService1/getAphusBassInfo?serviceKey=G7GuVfz99A0umUDOAuZlRXMYlZmKxBd3hHsj8EiZ89SSD7r5qrn08q70LM96fyblxiM3eGxWsgkIjhF%2BAWTVBg%3D%3D&kaptCode=A10023728 (Caused by ConnectTimeoutError(<urllib3.connection.HTTPConnection object at 0x00000298EB3DCD50>, 'Connection to apis.data.go.kr timed out. (connect timeout=None)'))\n"
     ]
    }
   ],
   "source": [
    "## 1차 획득\n",
    "_ls = []\n",
    "for danji_cd in danji_cd_ls:\n",
    "    try:\n",
    "        _ls.append(get_danji_base_info(danji_cd))\n",
    "    except Exception as e:\n",
    "        print(f\"{danji_cd} : {e}\")\n",
    "base_info = pd.concat(_ls)"
   ]
  },
  {
   "cell_type": "code",
   "execution_count": 23,
   "metadata": {},
   "outputs": [],
   "source": [
    "## 오류 부분 획득\n",
    "err_ls = []\n",
    "for danji_cd in [code for code in danji_cd_ls if code not in base_info['kaptCode'].to_list()]:\n",
    "    try:\n",
    "        err_ls.append(get_danji_base_info(danji_cd))\n",
    "    except Exception as e:\n",
    "        print(f\"{danji_cd} : {e}\")\n",
    "base_info_err = pd.concat(err_ls)"
   ]
  },
  {
   "cell_type": "code",
   "execution_count": 30,
   "metadata": {},
   "outputs": [],
   "source": [
    "## 저장\n",
    "path = 'C:/Users/GCC/git'\n",
    "base_info_res = pd.concat([base_info, base_info_err])\n",
    "base_info_res.to_csv(f\"{path}/data/DL/아파트기본정보.csv\", index=False)"
   ]
  },
  {
   "cell_type": "code",
   "execution_count": 34,
   "metadata": {},
   "outputs": [
    {
     "name": "stdout",
     "output_type": "stream",
     "text": [
      "A13527007 : HTTPConnectionPool(host='apis.data.go.kr', port=80): Read timed out. (read timeout=None)\n",
      "A13202308 : HTTPConnectionPool(host='apis.data.go.kr', port=80): Max retries exceeded with url: /1613000/AptBasisInfoService1/getAphusDtlInfo?serviceKey=G7GuVfz99A0umUDOAuZlRXMYlZmKxBd3hHsj8EiZ89SSD7r5qrn08q70LM96fyblxiM3eGxWsgkIjhF%2BAWTVBg%3D%3D&kaptCode=A13202308 (Caused by ConnectTimeoutError(<urllib3.connection.HTTPConnection object at 0x00000298E9F4C790>, 'Connection to apis.data.go.kr timed out. (connect timeout=None)'))\n",
      "A15809402 : HTTPConnectionPool(host='apis.data.go.kr', port=80): Max retries exceeded with url: /1613000/AptBasisInfoService1/getAphusDtlInfo?serviceKey=G7GuVfz99A0umUDOAuZlRXMYlZmKxBd3hHsj8EiZ89SSD7r5qrn08q70LM96fyblxiM3eGxWsgkIjhF%2BAWTVBg%3D%3D&kaptCode=A15809402 (Caused by ConnectTimeoutError(<urllib3.connection.HTTPConnection object at 0x00000298EA49F7D0>, 'Connection to apis.data.go.kr timed out. (connect timeout=None)'))\n",
      "A12009001 : HTTPConnectionPool(host='apis.data.go.kr', port=80): Max retries exceeded with url: /1613000/AptBasisInfoService1/getAphusDtlInfo?serviceKey=G7GuVfz99A0umUDOAuZlRXMYlZmKxBd3hHsj8EiZ89SSD7r5qrn08q70LM96fyblxiM3eGxWsgkIjhF%2BAWTVBg%3D%3D&kaptCode=A12009001 (Caused by ConnectTimeoutError(<urllib3.connection.HTTPConnection object at 0x00000298EA2321D0>, 'Connection to apis.data.go.kr timed out. (connect timeout=None)'))\n",
      "A15770801 : HTTPConnectionPool(host='apis.data.go.kr', port=80): Max retries exceeded with url: /1613000/AptBasisInfoService1/getAphusDtlInfo?serviceKey=G7GuVfz99A0umUDOAuZlRXMYlZmKxBd3hHsj8EiZ89SSD7r5qrn08q70LM96fyblxiM3eGxWsgkIjhF%2BAWTVBg%3D%3D&kaptCode=A15770801 (Caused by ConnectTimeoutError(<urllib3.connection.HTTPConnection object at 0x00000298EA231510>, 'Connection to apis.data.go.kr timed out. (connect timeout=None)'))\n",
      "A13980102 : HTTPConnectionPool(host='apis.data.go.kr', port=80): Max retries exceeded with url: /1613000/AptBasisInfoService1/getAphusDtlInfo?serviceKey=G7GuVfz99A0umUDOAuZlRXMYlZmKxBd3hHsj8EiZ89SSD7r5qrn08q70LM96fyblxiM3eGxWsgkIjhF%2BAWTVBg%3D%3D&kaptCode=A13980102 (Caused by ConnectTimeoutError(<urllib3.connection.HTTPConnection object at 0x00000298EA34EED0>, 'Connection to apis.data.go.kr timed out. (connect timeout=None)'))\n",
      "A13703019 : HTTPConnectionPool(host='apis.data.go.kr', port=80): Max retries exceeded with url: /1613000/AptBasisInfoService1/getAphusDtlInfo?serviceKey=G7GuVfz99A0umUDOAuZlRXMYlZmKxBd3hHsj8EiZ89SSD7r5qrn08q70LM96fyblxiM3eGxWsgkIjhF%2BAWTVBg%3D%3D&kaptCode=A13703019 (Caused by ConnectTimeoutError(<urllib3.connection.HTTPConnection object at 0x00000298EA34ED90>, 'Connection to apis.data.go.kr timed out. (connect timeout=None)'))\n",
      "A12127007 : HTTPConnectionPool(host='apis.data.go.kr', port=80): Max retries exceeded with url: /1613000/AptBasisInfoService1/getAphusDtlInfo?serviceKey=G7GuVfz99A0umUDOAuZlRXMYlZmKxBd3hHsj8EiZ89SSD7r5qrn08q70LM96fyblxiM3eGxWsgkIjhF%2BAWTVBg%3D%3D&kaptCode=A12127007 (Caused by ConnectTimeoutError(<urllib3.connection.HTTPConnection object at 0x00000298E93902D0>, 'Connection to apis.data.go.kr timed out. (connect timeout=None)'))\n",
      "A15783907 : HTTPConnectionPool(host='apis.data.go.kr', port=80): Max retries exceeded with url: /1613000/AptBasisInfoService1/getAphusDtlInfo?serviceKey=G7GuVfz99A0umUDOAuZlRXMYlZmKxBd3hHsj8EiZ89SSD7r5qrn08q70LM96fyblxiM3eGxWsgkIjhF%2BAWTVBg%3D%3D&kaptCode=A15783907 (Caused by ConnectTimeoutError(<urllib3.connection.HTTPConnection object at 0x00000298EA307A90>, 'Connection to apis.data.go.kr timed out. (connect timeout=None)'))\n",
      "A13790003 : HTTPConnectionPool(host='apis.data.go.kr', port=80): Max retries exceeded with url: /1613000/AptBasisInfoService1/getAphusDtlInfo?serviceKey=G7GuVfz99A0umUDOAuZlRXMYlZmKxBd3hHsj8EiZ89SSD7r5qrn08q70LM96fyblxiM3eGxWsgkIjhF%2BAWTVBg%3D%3D&kaptCode=A13790003 (Caused by ConnectTimeoutError(<urllib3.connection.HTTPConnection object at 0x00000298EA49D6D0>, 'Connection to apis.data.go.kr timed out. (connect timeout=None)'))\n",
      "A15703304 : HTTPConnectionPool(host='apis.data.go.kr', port=80): Max retries exceeded with url: /1613000/AptBasisInfoService1/getAphusDtlInfo?serviceKey=G7GuVfz99A0umUDOAuZlRXMYlZmKxBd3hHsj8EiZ89SSD7r5qrn08q70LM96fyblxiM3eGxWsgkIjhF%2BAWTVBg%3D%3D&kaptCode=A15703304 (Caused by ConnectTimeoutError(<urllib3.connection.HTTPConnection object at 0x00000298EA2C4E50>, 'Connection to apis.data.go.kr timed out. (connect timeout=None)'))\n",
      "A13872503 : HTTPConnectionPool(host='apis.data.go.kr', port=80): Max retries exceeded with url: /1613000/AptBasisInfoService1/getAphusDtlInfo?serviceKey=G7GuVfz99A0umUDOAuZlRXMYlZmKxBd3hHsj8EiZ89SSD7r5qrn08q70LM96fyblxiM3eGxWsgkIjhF%2BAWTVBg%3D%3D&kaptCode=A13872503 (Caused by ConnectTimeoutError(<urllib3.connection.HTTPConnection object at 0x00000298EA4FD6D0>, 'Connection to apis.data.go.kr timed out. (connect timeout=None)'))\n",
      "A13785203 : HTTPConnectionPool(host='apis.data.go.kr', port=80): Max retries exceeded with url: /1613000/AptBasisInfoService1/getAphusDtlInfo?serviceKey=G7GuVfz99A0umUDOAuZlRXMYlZmKxBd3hHsj8EiZ89SSD7r5qrn08q70LM96fyblxiM3eGxWsgkIjhF%2BAWTVBg%3D%3D&kaptCode=A13785203 (Caused by ConnectTimeoutError(<urllib3.connection.HTTPConnection object at 0x00000298EA3EE190>, 'Connection to apis.data.go.kr timed out. (connect timeout=None)'))\n",
      "A14206307 : HTTPConnectionPool(host='apis.data.go.kr', port=80): Max retries exceeded with url: /1613000/AptBasisInfoService1/getAphusDtlInfo?serviceKey=G7GuVfz99A0umUDOAuZlRXMYlZmKxBd3hHsj8EiZ89SSD7r5qrn08q70LM96fyblxiM3eGxWsgkIjhF%2BAWTVBg%3D%3D&kaptCode=A14206307 (Caused by ConnectTimeoutError(<urllib3.connection.HTTPConnection object at 0x00000298EA28B690>, 'Connection to apis.data.go.kr timed out. (connect timeout=None)'))\n",
      "A10027601 : 'response'\n"
     ]
    }
   ],
   "source": [
    "## 이거 해야 됨\n",
    "_ls = []\n",
    "for danji_cd in danji_cd_ls:\n",
    "    try:\n",
    "        _ls.append(get_danji_detail_info(danji_cd))\n",
    "    except Exception as e:\n",
    "        print(f\"{danji_cd} : {e}\")\n",
    "detail_info = pd.concat(_ls)"
   ]
  },
  {
   "cell_type": "code",
   "execution_count": 35,
   "metadata": {},
   "outputs": [],
   "source": [
    "## 오류 부분 획득\n",
    "err_ls = []\n",
    "for danji_cd in [code for code in danji_cd_ls if code not in detail_info['kaptCode'].to_list()]:\n",
    "    try:\n",
    "        err_ls.append(get_danji_detail_info(danji_cd))\n",
    "    except Exception as e:\n",
    "        print(f\"{danji_cd} : {e}\")\n",
    "detail_info_err = pd.concat(err_ls)"
   ]
  },
  {
   "cell_type": "code",
   "execution_count": 36,
   "metadata": {},
   "outputs": [],
   "source": [
    "## 저장\n",
    "path = 'C:/Users/GCC/git'\n",
    "detail_info_res = pd.concat([detail_info, detail_info_err])\n",
    "detail_info_res.to_csv(f\"{path}/data/DL/아파트상세정보.csv\", index=False)"
   ]
  }
 ],
 "metadata": {
  "kernelspec": {
   "display_name": ".venv",
   "language": "python",
   "name": "python3"
  },
  "language_info": {
   "codemirror_mode": {
    "name": "ipython",
    "version": 3
   },
   "file_extension": ".py",
   "mimetype": "text/x-python",
   "name": "python",
   "nbconvert_exporter": "python",
   "pygments_lexer": "ipython3",
   "version": "3.11.8"
  }
 },
 "nbformat": 4,
 "nbformat_minor": 2
}
