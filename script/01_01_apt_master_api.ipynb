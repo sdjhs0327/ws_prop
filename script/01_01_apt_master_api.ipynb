{
 "cells": [
  {
   "cell_type": "code",
   "execution_count": 1,
   "metadata": {},
   "outputs": [],
   "source": [
    "import pandas as pd\n",
    "import warnings\n",
    "warnings.filterwarnings('ignore')\n",
    "import requests\n",
    "import xmltodict\n",
    "import time"
   ]
  },
  {
   "cell_type": "code",
   "execution_count": 6,
   "metadata": {},
   "outputs": [],
   "source": [
    "authKey = \"G7GuVfz99A0umUDOAuZlRXMYlZmKxBd3hHsj8EiZ89SSD7r5qrn08q70LM96fyblxiM3eGxWsgkIjhF%2BAWTVBg%3D%3D\"\n",
    "\n",
    "## 전체 아파트 목록 조회 함수\n",
    "def get_apt_list(authKey = authKey):\n",
    "    url = f\"http://apis.data.go.kr/1613000/AptListService2/getTotalAptList?serviceKey={authKey}&pageNo=1&numOfRows=1000000\"\n",
    "    response = requests.get(url)\n",
    "    raw = xmltodict.parse(response.text)\n",
    "    raw = pd.DataFrame(raw['response']['body']['items']['item'])\n",
    "    return raw\n",
    "\n",
    "## 아파트 기본 정보 조회 함수\n",
    "def get_danji_base_info(danji_cd, authKey = authKey):\n",
    "    url = f\"http://apis.data.go.kr/1613000/AptBasisInfoService1/getAphusBassInfo?serviceKey={authKey}&kaptCode={danji_cd}\"\n",
    "    response = requests.get(url)\n",
    "    raw = xmltodict.parse(response.text)\n",
    "    raw = pd.DataFrame(raw['response']['body']['item'], index=[0])\n",
    "    return raw\n",
    "\n",
    "## 아파트 상세 정보 조회 함수\n",
    "def get_danji_detail_info(danji_cd, authKey = authKey):\n",
    "    url = f\"http://apis.data.go.kr/1613000/AptBasisInfoService1/getAphusDtlInfo?serviceKey={authKey}&kaptCode={danji_cd}\"\n",
    "    response = requests.get(url)\n",
    "    raw = xmltodict.parse(response.text)\n",
    "    raw = pd.DataFrame(raw['response']['body']['item'], index=[0])\n",
    "    return raw"
   ]
  },
  {
   "cell_type": "code",
   "execution_count": 19,
   "metadata": {},
   "outputs": [],
   "source": [
    "danji_list = get_apt_list()\n",
    "danji_list.columns = ['시도명', '시군구명', '읍면동명', '법정동코드', '단지코드', '단지명', '리명']"
   ]
  },
  {
   "cell_type": "code",
   "execution_count": 21,
   "metadata": {},
   "outputs": [],
   "source": [
    "danji_cd_ls = danji_list[danji_list['법정동코드'] == \"1121510400\"]['단지코드'].to_list()"
   ]
  },
  {
   "cell_type": "code",
   "execution_count": 22,
   "metadata": {},
   "outputs": [
    {
     "name": "stdout",
     "output_type": "stream",
     "text": [
      "A14381510 : 'response'\n",
      "A14381506 : 'response'\n",
      "A14381508 : 'response'\n",
      "A10024751 : 'response'\n"
     ]
    }
   ],
   "source": [
    "## 1차 획득\n",
    "_ls = []\n",
    "for danji_cd in danji_cd_ls:\n",
    "    try:\n",
    "        _ls.append(get_danji_base_info(danji_cd))\n",
    "    except Exception as e:\n",
    "        print(f\"{danji_cd} : {e}\")\n",
    "base_info = pd.concat(_ls)"
   ]
  },
  {
   "cell_type": "code",
   "execution_count": 24,
   "metadata": {},
   "outputs": [],
   "source": [
    "## 오류 부분 획득\n",
    "err_ls = []\n",
    "for danji_cd in [code for code in danji_cd_ls if code not in base_info['kaptCode'].to_list()]:\n",
    "    try:\n",
    "        err_ls.append(get_danji_base_info(danji_cd))\n",
    "    except Exception as e:\n",
    "        print(f\"{danji_cd} : {e}\")\n",
    "base_info_err = pd.concat(err_ls)"
   ]
  },
  {
   "cell_type": "code",
   "execution_count": 25,
   "metadata": {},
   "outputs": [],
   "source": [
    "## 저장\n",
    "path = 'C:/Users/GCC/git/dataset/DL'\n",
    "base_info_res = pd.concat([base_info, base_info_err])\n",
    "base_info_res.to_csv(f\"{path}/단지기본정보.csv\", index=False)"
   ]
  },
  {
   "cell_type": "code",
   "execution_count": null,
   "metadata": {},
   "outputs": [],
   "source": []
  }
 ],
 "metadata": {
  "kernelspec": {
   "display_name": ".venv",
   "language": "python",
   "name": "python3"
  },
  "language_info": {
   "codemirror_mode": {
    "name": "ipython",
    "version": 3
   },
   "file_extension": ".py",
   "mimetype": "text/x-python",
   "name": "python",
   "nbconvert_exporter": "python",
   "pygments_lexer": "ipython3",
   "version": "3.11.9"
  }
 },
 "nbformat": 4,
 "nbformat_minor": 2
}
