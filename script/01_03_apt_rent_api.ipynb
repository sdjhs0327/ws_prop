{
 "cells": [
  {
   "cell_type": "code",
   "execution_count": 1,
   "metadata": {},
   "outputs": [
    {
     "name": "stderr",
     "output_type": "stream",
     "text": [
      "C:\\Users\\GCC\\AppData\\Local\\Temp\\ipykernel_25012\\3722414010.py:2: DeprecationWarning: \n",
      "Pyarrow will become a required dependency of pandas in the next major release of pandas (pandas 3.0),\n",
      "(to allow more performant data types, such as the Arrow string type, and better interoperability with other libraries)\n",
      "but was not found to be installed on your system.\n",
      "If this would cause problems for you,\n",
      "please provide us feedback at https://github.com/pandas-dev/pandas/issues/54466\n",
      "        \n",
      "  import pandas as pd\n"
     ]
    }
   ],
   "source": [
    "import pandas as pd\n",
    "import warnings\n",
    "warnings.filterwarnings('ignore')\n",
    "import requests\n",
    "import xmltodict"
   ]
  },
  {
   "cell_type": "code",
   "execution_count": 2,
   "metadata": {},
   "outputs": [],
   "source": [
    "authKey = 'G7GuVfz99A0umUDOAuZlRXMYlZmKxBd3hHsj8EiZ89SSD7r5qrn08q70LM96fyblxiM3eGxWsgkIjhF%2BAWTVBg%3D%3D'\n",
    "\n",
    "## APT 전월세이력 API\n",
    "def get_apt_rent(sigungu_cd, base_month, authKey = authKey):\n",
    "    url = f\"http://openapi.molit.go.kr:8081/OpenAPI_ToolInstallPackage/service/rest/RTMSOBJSvc/getRTMSDataSvcAptRent?serviceKey={authKey}&LAWD_CD={sigungu_cd}&DEAL_YMD={base_month}\"\n",
    "    try:\n",
    "        response = requests.get(url)\n",
    "        raw = xmltodict.parse(response.text)\n",
    "        raw = raw['response']['body']['items']['item']\n",
    "        return pd.DataFrame(raw)\n",
    "    except Exception as e:\n",
    "        return print(f'기준년월: {base_month}, 시군구코드: {sigungu_cd} 결과를 가져오는데 실패했습니다.')"
   ]
  },
  {
   "cell_type": "code",
   "execution_count": 3,
   "metadata": {},
   "outputs": [],
   "source": [
    "## 법정동코드 불러오기\n",
    "path = 'C:/Users/GCC/git'\n",
    "bjd_cd = pd.read_csv(f'{path}/data/DL/법정동코드 전체자료.txt', encoding='cp949', sep='\\t', dtype=str)\n",
    "bjd_cd['시군구코드'] = bjd_cd['법정동코드'].str.slice(0, 5)\n",
    "bjd_cd['시도코드'] = bjd_cd['법정동코드'].str.slice(0, 2)"
   ]
  },
  {
   "cell_type": "code",
   "execution_count": 4,
   "metadata": {},
   "outputs": [],
   "source": [
    "## 조회조건 정의\n",
    "sigungu_cd_ls = (bjd_cd[((bjd_cd['시도코드'] + '000') != bjd_cd['시군구코드'])&(bjd_cd['폐지여부'] == '존재')&(bjd_cd['시도코드'] == '11')]['시군구코드']).unique()\n",
    "base_month_ls = pd.date_range('2011-01-01', '2024-01-31', freq='M').strftime('%Y%m').tolist()"
   ]
  },
  {
   "cell_type": "code",
   "execution_count": 5,
   "metadata": {},
   "outputs": [
    {
     "name": "stdout",
     "output_type": "stream",
     "text": [
      "11110 시작\n",
      "done 11110\n",
      "11140 시작\n",
      "done 11140\n",
      "11170 시작\n",
      "done 11170\n",
      "11200 시작\n",
      "done 11200\n",
      "11215 시작\n",
      "done 11215\n",
      "11230 시작\n",
      "done 11230\n",
      "11260 시작\n",
      "done 11260\n",
      "11290 시작\n",
      "done 11290\n",
      "11305 시작\n",
      "기준년월: 201302, 시군구코드: 11305 결과를 가져오는데 실패했습니다.\n",
      "기준년월: 201212, 시군구코드: 11305 결과를 가져오는데 실패했습니다.\n",
      "기준년월: 201303, 시군구코드: 11305 결과를 가져오는데 실패했습니다.\n",
      "기준년월: 201301, 시군구코드: 11305 결과를 가져오는데 실패했습니다.\n",
      "done 11305\n",
      "11320 시작\n",
      "done 11320\n",
      "11350 시작\n",
      "done 11350\n",
      "11380 시작\n",
      "done 11380\n",
      "11410 시작\n",
      "done 11410\n",
      "11440 시작\n",
      "done 11440\n",
      "11470 시작\n",
      "done 11470\n",
      "11500 시작\n",
      "done 11500\n",
      "11530 시작\n",
      "done 11530\n",
      "11545 시작\n",
      "done 11545\n",
      "11560 시작\n",
      "done 11560\n",
      "11590 시작\n",
      "done 11590\n",
      "11620 시작\n",
      "done 11620\n",
      "11650 시작\n",
      "done 11650\n",
      "11680 시작\n",
      "done 11680\n",
      "11710 시작\n",
      "done 11710\n",
      "11740 시작\n",
      "done 11740\n"
     ]
    }
   ],
   "source": [
    "\n",
    "import concurrent.futures\n",
    "import threading\n",
    "_ls = []\n",
    "lock = threading.Lock()\n",
    "with concurrent.futures.ThreadPoolExecutor(max_workers=20) as executor:\n",
    "    for sigungu_cd in sigungu_cd_ls:\n",
    "        print(f'{sigungu_cd} 시작')\n",
    "        future_month = {executor.submit(get_apt_rent, sigungu_cd, month): month for month in base_month_ls}\n",
    "        for future in concurrent.futures.as_completed(future_month):\n",
    "            dataset = future.result()\n",
    "            lock.acquire()\n",
    "            _ls.append(dataset)\n",
    "            lock.release()\n",
    "        print(f\"done {sigungu_cd}\")\n",
    "rent_df = pd.concat(_ls)"
   ]
  },
  {
   "cell_type": "code",
   "execution_count": 6,
   "metadata": {},
   "outputs": [],
   "source": [
    "path = 'C:/Users/GCC/git'\n",
    "rent_df.to_csv(f'{path}/data/DL/전월세내역_서울.csv', index=False, encoding='utf-8-sig')"
   ]
  }
 ],
 "metadata": {
  "kernelspec": {
   "display_name": ".venv",
   "language": "python",
   "name": "python3"
  },
  "language_info": {
   "codemirror_mode": {
    "name": "ipython",
    "version": 3
   },
   "file_extension": ".py",
   "mimetype": "text/x-python",
   "name": "python",
   "nbconvert_exporter": "python",
   "pygments_lexer": "ipython3",
   "version": "3.11.8"
  }
 },
 "nbformat": 4,
 "nbformat_minor": 2
}
