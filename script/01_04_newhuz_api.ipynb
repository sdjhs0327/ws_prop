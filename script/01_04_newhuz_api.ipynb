{
 "cells": [
  {
   "cell_type": "code",
   "execution_count": 3,
   "metadata": {},
   "outputs": [],
   "source": [
    "## localdata.go.kr에서 제공하는 공공데이터를 활용하기 위한 모듈을 정의한 파일\n",
    "import pandas as pd\n",
    "import numpy as np\n",
    "import warnings\n",
    "warnings.filterwarnings('ignore')\n",
    "import requests\n",
    "import json\n",
    "import geocode as gc"
   ]
  },
  {
   "cell_type": "code",
   "execution_count": 4,
   "metadata": {},
   "outputs": [],
   "source": [
    "authKey = 'G7GuVfz99A0umUDOAuZlRXMYlZmKxBd3hHsj8EiZ89SSD7r5qrn08q70LM96fyblxiM3eGxWsgkIjhF%2BAWTVBg%3D%3D'\n",
    "\n",
    "## 입주물량정보\n",
    "def get_new_apt_quantity(authKey = authKey):\n",
    "    url = f\"https://api.odcloud.kr/api/15111714/v1/uddi:0b257760-ac19-4841-adb4-b38b4d153397?page=1&perPage=10000&serviceKey={authKey}\"\n",
    "    response = requests.get(url)\n",
    "    raw = json.loads(response.text)\n",
    "    raw = raw['data']\n",
    "    return pd.DataFrame(raw)"
   ]
  },
  {
   "cell_type": "code",
   "execution_count": 5,
   "metadata": {},
   "outputs": [],
   "source": [
    "res = get_new_apt_quantity()"
   ]
  },
  {
   "cell_type": "code",
   "execution_count": 8,
   "metadata": {},
   "outputs": [
    {
     "name": "stdout",
     "output_type": "stream",
     "text": [
      "85번째는 주소가 없습니다.\n",
      "86번째는 주소가 없습니다.\n",
      "98번째는 주소가 없습니다.\n",
      "106번째는 주소가 없습니다.\n",
      "141번째는 주소가 없습니다.\n",
      "150번째는 주소가 없습니다.\n",
      "161번째는 주소가 없습니다.\n",
      "179번째는 주소가 없습니다.\n",
      "198번째는 주소가 없습니다.\n",
      "208번째는 주소가 없습니다.\n",
      "217번째는 주소가 없습니다.\n",
      "218번째는 주소가 없습니다.\n",
      "222번째는 주소가 없습니다.\n",
      "228번째는 주소가 없습니다.\n",
      "232번째는 주소가 없습니다.\n",
      "241번째는 주소가 없습니다.\n",
      "246번째는 주소가 없습니다.\n",
      "261번째는 주소가 없습니다.\n",
      "271번째는 주소가 없습니다.\n",
      "272번째는 주소가 없습니다.\n",
      "273번째는 주소가 없습니다.\n",
      "276번째는 주소가 없습니다.\n",
      "300번째는 주소가 없습니다.\n",
      "307번째는 주소가 없습니다.\n",
      "309번째는 주소가 없습니다.\n",
      "310번째는 주소가 없습니다.\n",
      "312번째는 주소가 없습니다.\n",
      "313번째는 주소가 없습니다.\n",
      "316번째는 주소가 없습니다.\n",
      "328번째는 주소가 없습니다.\n",
      "341번째는 주소가 없습니다.\n",
      "342번째는 주소가 없습니다.\n",
      "343번째는 주소가 없습니다.\n",
      "344번째는 주소가 없습니다.\n",
      "349번째는 주소가 없습니다.\n",
      "354번째는 주소가 없습니다.\n",
      "366번째는 주소가 없습니다.\n",
      "372번째는 주소가 없습니다.\n",
      "373번째는 주소가 없습니다.\n",
      "376번째는 주소가 없습니다.\n",
      "377번째는 주소가 없습니다.\n",
      "378번째는 주소가 없습니다.\n",
      "379번째는 주소가 없습니다.\n",
      "388번째는 주소가 없습니다.\n",
      "403번째는 주소가 없습니다.\n",
      "414번째는 주소가 없습니다.\n",
      "436번째는 주소가 없습니다.\n",
      "467번째는 주소가 없습니다.\n",
      "471번째는 주소가 없습니다.\n",
      "472번째는 주소가 없습니다.\n",
      "509번째는 주소가 없습니다.\n",
      "512번째는 주소가 없습니다.\n",
      "515번째는 주소가 없습니다.\n",
      "549번째는 주소가 없습니다.\n",
      "555번째는 주소가 없습니다.\n",
      "611번째는 주소가 없습니다.\n",
      "629번째는 주소가 없습니다.\n",
      "700번째는 주소가 없습니다.\n",
      "745번째는 주소가 없습니다.\n",
      "751번째는 주소가 없습니다.\n",
      "800번째는 주소가 없습니다.\n",
      "833번째는 주소가 없습니다.\n",
      "866번째는 주소가 없습니다.\n",
      "933번째는 주소가 없습니다.\n",
      "955번째는 주소가 없습니다.\n",
      "961번째는 주소가 없습니다.\n",
      "1099번째는 주소가 없습니다.\n"
     ]
    }
   ],
   "source": [
    "## 주소를 위경도로 변환\n",
    "new_apt_quantity = res.reset_index(drop=True)\n",
    "new_apt_quantity['주소'] = new_apt_quantity['주소'].apply(lambda x: x.replace(\"0-0\", \"\"))\n",
    "\n",
    "_x = []\n",
    "_y = []\n",
    "for i in range(len(new_apt_quantity)):\n",
    "    juso = new_apt_quantity['주소'][i]\n",
    "    try:\n",
    "        map_point = gc.search_map(juso)['addresses'][0]\n",
    "        _x.append(map_point['x'])\n",
    "        _y.append(map_point['y'])\n",
    "    except Exception as e:\n",
    "        print(f\"{i}번째는 주소가 없습니다.\")\n",
    "        _x.append(np.nan)\n",
    "        _y.append(np.nan)\n",
    "        continue\n",
    "new_apt_quantity['위경도X좌표'] = _x\n",
    "new_apt_quantity['위경도Y좌표'] = _y"
   ]
  },
  {
   "cell_type": "code",
   "execution_count": 11,
   "metadata": {},
   "outputs": [],
   "source": [
    "new_apt_quantity.to_csv('../data/DL/신규분양아파트.csv', index=False, encoding='utf-8-sig')"
   ]
  },
  {
   "cell_type": "code",
   "execution_count": null,
   "metadata": {},
   "outputs": [],
   "source": []
  }
 ],
 "metadata": {
  "kernelspec": {
   "display_name": ".venv",
   "language": "python",
   "name": "python3"
  },
  "language_info": {
   "codemirror_mode": {
    "name": "ipython",
    "version": 3
   },
   "file_extension": ".py",
   "mimetype": "text/x-python",
   "name": "python",
   "nbconvert_exporter": "python",
   "pygments_lexer": "ipython3",
   "version": "3.11.8"
  }
 },
 "nbformat": 4,
 "nbformat_minor": 2
}
