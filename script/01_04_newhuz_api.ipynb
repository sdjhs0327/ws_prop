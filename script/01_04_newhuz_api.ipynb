{
 "cells": [
  {
   "cell_type": "code",
   "execution_count": 3,
   "metadata": {},
   "outputs": [],
   "source": [
    "import pandas as pd\n",
    "import numpy as np\n",
    "import warnings\n",
    "warnings.filterwarnings('ignore')\n",
    "import requests\n",
    "import json\n",
    "import geocode as gc"
   ]
  },
  {
   "cell_type": "code",
   "execution_count": 4,
   "metadata": {},
   "outputs": [],
   "source": [
    "authKey = 'G7GuVfz99A0umUDOAuZlRXMYlZmKxBd3hHsj8EiZ89SSD7r5qrn08q70LM96fyblxiM3eGxWsgkIjhF%2BAWTVBg%3D%3D'\n",
    "\n",
    "## 입주물량정보\n",
    "def get_new_apt_quantity(authKey = authKey):\n",
    "    url = f\"https://api.odcloud.kr/api/15111714/v1/uddi:0b257760-ac19-4841-adb4-b38b4d153397?page=1&perPage=10000&serviceKey={authKey}\"\n",
    "    response = requests.get(url)\n",
    "    raw = json.loads(response.text)\n",
    "    raw = raw['data']\n",
    "    return pd.DataFrame(raw)"
   ]
  },
  {
   "cell_type": "code",
   "execution_count": 5,
   "metadata": {},
   "outputs": [],
   "source": [
    "res = get_new_apt_quantity()"
   ]
  },
  {
   "cell_type": "code",
   "execution_count": 6,
   "metadata": {},
   "outputs": [
    {
     "name": "stdout",
     "output_type": "stream",
     "text": [
      "61번째는 주소가 없습니다.\n",
      "77번째는 주소가 없습니다.\n",
      "92번째는 주소가 없습니다.\n",
      "97번째는 주소가 없습니다.\n",
      "103번째는 주소가 없습니다.\n",
      "109번째는 주소가 없습니다.\n",
      "139번째는 주소가 없습니다.\n",
      "145번째는 주소가 없습니다.\n",
      "152번째는 주소가 없습니다.\n",
      "157번째는 주소가 없습니다.\n",
      "205번째는 주소가 없습니다.\n",
      "206번째는 주소가 없습니다.\n",
      "278번째는 주소가 없습니다.\n",
      "287번째는 주소가 없습니다.\n",
      "292번째는 주소가 없습니다.\n",
      "352번째는 주소가 없습니다.\n",
      "374번째는 주소가 없습니다.\n",
      "428번째는 주소가 없습니다.\n",
      "431번째는 주소가 없습니다.\n",
      "442번째는 주소가 없습니다.\n",
      "444번째는 주소가 없습니다.\n",
      "591번째는 주소가 없습니다.\n",
      "691번째는 주소가 없습니다.\n",
      "693번째는 주소가 없습니다.\n",
      "694번째는 주소가 없습니다.\n",
      "695번째는 주소가 없습니다.\n",
      "725번째는 주소가 없습니다.\n",
      "763번째는 주소가 없습니다.\n",
      "777번째는 주소가 없습니다.\n",
      "940번째는 주소가 없습니다.\n",
      "942번째는 주소가 없습니다.\n",
      "943번째는 주소가 없습니다.\n"
     ]
    }
   ],
   "source": [
    "## 주소를 위경도로 변환\n",
    "new_apt_quantity = res.reset_index(drop=True)\n",
    "new_apt_quantity['주소'] = new_apt_quantity['주소'].apply(lambda x: x.replace(\"0-0\", \"\"))\n",
    "\n",
    "_x = []\n",
    "_y = []\n",
    "for i in range(len(new_apt_quantity)):\n",
    "    juso = new_apt_quantity['주소'][i]\n",
    "    try:\n",
    "        map_point = gc.search_map(juso)['addresses'][0]\n",
    "        _x.append(map_point['x'])\n",
    "        _y.append(map_point['y'])\n",
    "    except Exception as e:\n",
    "        print(f\"{i}번째는 주소가 없습니다.\")\n",
    "        _x.append(np.nan)\n",
    "        _y.append(np.nan)\n",
    "        continue\n",
    "new_apt_quantity['위경도X좌표'] = _x\n",
    "new_apt_quantity['위경도Y좌표'] = _y"
   ]
  },
  {
   "cell_type": "code",
   "execution_count": 7,
   "metadata": {},
   "outputs": [],
   "source": [
    "path = 'C:/Users/sdjhs/git'\n",
    "new_apt_quantity.to_csv(f'{path}/data/DL/신규분양아파트.csv', index=False, encoding='utf-8-sig')"
   ]
  },
  {
   "cell_type": "code",
   "execution_count": null,
   "metadata": {},
   "outputs": [],
   "source": []
  }
 ],
 "metadata": {
  "kernelspec": {
   "display_name": ".venv",
   "language": "python",
   "name": "python3"
  },
  "language_info": {
   "codemirror_mode": {
    "name": "ipython",
    "version": 3
   },
   "file_extension": ".py",
   "mimetype": "text/x-python",
   "name": "python",
   "nbconvert_exporter": "python",
   "pygments_lexer": "ipython3",
   "version": "3.11.8"
  }
 },
 "nbformat": 4,
 "nbformat_minor": 2
}
