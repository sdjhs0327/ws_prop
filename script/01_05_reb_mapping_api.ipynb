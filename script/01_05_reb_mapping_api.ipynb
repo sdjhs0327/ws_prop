{
 "cells": [
  {
   "cell_type": "code",
   "execution_count": 1,
   "metadata": {},
   "outputs": [],
   "source": [
    "import pandas as pd\n",
    "import numpy as np\n",
    "import warnings\n",
    "warnings.filterwarnings('ignore')\n",
    "import requests\n",
    "import json\n",
    "import geocode as gc"
   ]
  },
  {
   "cell_type": "code",
   "execution_count": 2,
   "metadata": {},
   "outputs": [],
   "source": [
    "## 공시지가, 건축물대장, 도로명주소 데이터를 매핑하기 위해 필요한 데이터를 조회하는 스크립트\n",
    "## 실거래가는 공시지가 기준 명칭으로 매핑됨"
   ]
  },
  {
   "cell_type": "code",
   "execution_count": 3,
   "metadata": {},
   "outputs": [],
   "source": [
    "authKey = \"G7GuVfz99A0umUDOAuZlRXMYlZmKxBd3hHsj8EiZ89SSD7r5qrn08q70LM96fyblxiM3eGxWsgkIjhF%2BAWTVBg%3D%3D\"\n",
    "\n",
    "## 단지명 매핑 정보를 조회\n",
    "def get_danji_pkinfo(page, authKey = authKey):\n",
    "    url = f\"https://api.odcloud.kr/api/AptIdInfoSvc/v1/getAptInfo?page={page}&perPage=10000&serviceKey={authKey}\"\n",
    "    response = requests.get(url)\n",
    "    raw = json.loads(response.text)\n",
    "    raw = pd.DataFrame(raw['data'])\n",
    "    return raw\n",
    "\n",
    "## 단지별 동명 매핑 정보를 조회\n",
    "def get_dong_pkinfo(page, authKey = authKey):\n",
    "    url = f\"https://api.odcloud.kr/api/AptIdInfoSvc/v1/getDongInfo?page=1&perPage=10000&serviceKey={authKey}\"\n",
    "    response = requests.get(url)\n",
    "    raw = json.loads(response.text)\n",
    "    raw = pd.DataFrame(raw['data'])\n",
    "    return raw"
   ]
  },
  {
   "cell_type": "code",
   "execution_count": 4,
   "metadata": {},
   "outputs": [],
   "source": [
    "_ls = []\n",
    "for p in range(1, 6):\n",
    "    _ls.append(get_danji_pkinfo(p))\n",
    "\n",
    "danji_mapping_info = pd.concat(_ls)\n",
    "danji_mapping_info.columns = [\"주소\", \"단지종류\", \"단지명_공시가격\", \"단지명_건축물대장\", \"단지명_도로명주소\", \"단지고유번호\", \"동수\", \"PNU\", \"세대수\", \"사용승인일\"]\n",
    "danji_mapping_info = danji_mapping_info[['단지고유번호', 'PNU', '주소', '단지명_공시가격', '단지명_건축물대장', '단지명_도로명주소', '단지종류', '동수', '세대수', '사용승인일']]\n",
    "danji_mapping_info = danji_mapping_info.drop_duplicates(subset = '단지고유번호')"
   ]
  },
  {
   "cell_type": "code",
   "execution_count": 6,
   "metadata": {},
   "outputs": [],
   "source": [
    "## 저장\n",
    "path = 'C:/Users/GCC/git'\n",
    "danji_mapping_info.to_csv(f\"{path}/data/DW/단지매핑정보.csv\", index=False)"
   ]
  },
  {
   "cell_type": "code",
   "execution_count": 7,
   "metadata": {},
   "outputs": [],
   "source": [
    "_ls = []\n",
    "for p in range(1, 18):\n",
    "    _ls.append(get_dong_pkinfo(p))\n",
    "\n",
    "dong_mapping_info = pd.concat(_ls)\n",
    "dong_mapping_info.columns = [\"단지고유번호\", \"동명_공시가격\", \"동명_건축물대장\", \"동명_도로명주소\", \"지상층수\"]\n",
    "dong_mapping_info = dong_mapping_info.drop_duplicates(subset = '단지고유번호')"
   ]
  },
  {
   "cell_type": "code",
   "execution_count": 8,
   "metadata": {},
   "outputs": [],
   "source": [
    "## 저장\n",
    "path = 'C:/Users/GCC/git'\n",
    "dong_mapping_info.to_csv(f\"{path}/data/DL/동매핑정보.csv\", index=False)"
   ]
  },
  {
   "cell_type": "code",
   "execution_count": null,
   "metadata": {},
   "outputs": [],
   "source": []
  }
 ],
 "metadata": {
  "kernelspec": {
   "display_name": ".venv",
   "language": "python",
   "name": "python3"
  },
  "language_info": {
   "codemirror_mode": {
    "name": "ipython",
    "version": 3
   },
   "file_extension": ".py",
   "mimetype": "text/x-python",
   "name": "python",
   "nbconvert_exporter": "python",
   "pygments_lexer": "ipython3",
   "version": "3.11.8"
  }
 },
 "nbformat": 4,
 "nbformat_minor": 2
}
